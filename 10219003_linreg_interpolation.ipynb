{
 "cells": [
  {
   "cell_type": "code",
   "execution_count": 6,
   "metadata": {},
   "outputs": [
    {
     "name": "stdout",
     "output_type": "stream",
     "text": [
      "Masukkan total jumlah pasangan titik: 3\n",
      "Masukkan titik data untuk x: 1\n",
      "Masukkan titik data untuk y: 1\n",
      "Masukkan titik data untuk x: 2\n",
      "Masukkan titik data untuk y: 4\n",
      "Masukkan titik data untuk x: 3\n",
      "Masukkan titik data untuk y: 9\n",
      "Nilai C0 adalah\n",
      "-3.3333333333333335\n",
      "Nilai C1 adalah\n",
      "4.0\n",
      "Persamaan: y = -3.3333333333333335 + 4.0 x\n"
     ]
    }
   ],
   "source": [
    "#Regresi Linier\n",
    "#Input data\n",
    "Xdata = []\n",
    "Ydata = []\n",
    "\n",
    "jd = int(input(\"Masukkan total jumlah pasangan titik: \"))\n",
    "\n",
    "for tdx in range(jd):\n",
    "    xd = int(input(\"Masukkan titik data untuk x: \")) # perintah untuk memasukkan posisi suku yang ingin dicari\n",
    "    Xdata.append(xd)\n",
    "    yd = int(input(\"Masukkan titik data untuk y: \"))\n",
    "    Ydata.append(yd)\n",
    "    \n",
    "#mendefinisikan komponen perhitungan C0 dan C1 dalam bentuk fungsi\n",
    "def xj2(na):\n",
    "    x2 = 0\n",
    "    for jx in range(na):\n",
    "        x2 += (Xdata[jx-1])**2\n",
    "    return x2\n",
    "\n",
    "def xj(nb):\n",
    "    xj0 = 0\n",
    "    for j0x in range(nb):\n",
    "        xj0 += (Xdata[j0x-1])\n",
    "    return xj0\n",
    "\n",
    "def yj(nc):\n",
    "    yj0 = 0\n",
    "    for j0y in range(nc):\n",
    "        yj0 += (Ydata[j0y-1])\n",
    "    return yj0\n",
    "\n",
    "def xjyj(nd):\n",
    "    xyj = 0\n",
    "    for xyj0 in range(nd):\n",
    "        xyj += (Xdata[xyj0-1]*Ydata[xyj0-1])\n",
    "    return xyj\n",
    "\n",
    "#Membuat persamaan C0 dan C1\n",
    "C0 = ((xj2(jd)*yj(jd)-(xj(jd)*xjyj(jd)))/((jd*xj2(jd)-((xj(jd))**2))))\n",
    "C1 = ((jd*xjyj(jd))-(yj(jd)*xj(jd)))/((jd*xj2(jd))-((xj(jd)**2)))\n",
    "\n",
    "#menampilkan hasil C0 dan C1\n",
    "print('Nilai C0 adalah', C0,\n",
    "      'Nilai C1 adalah', C1, sep='\\n')\n",
    "\n",
    "print('Persamaan: y =', C0, '+', C1,'x')\n"
   ]
  },
  {
   "cell_type": "code",
   "execution_count": 97,
   "metadata": {},
   "outputs": [
    {
     "name": "stdout",
     "output_type": "stream",
     "text": [
      "Masukkan total jumlah pasangan titik: 2\n",
      "Masukkan titik data untuk x: 1\n",
      "Masukkan titik data untuk y: 3\n",
      "Masukkan titik data untuk x: 2\n",
      "Masukkan titik data untuk y: 4\n"
     ]
    }
   ],
   "source": [
    "#Interpolasi Linier\n",
    "#Input data\n",
    "Xinlin = []\n",
    "Yinlin = []\n",
    "\n",
    "jd = int(input(\"Masukkan total jumlah pasangan titik: \"))\n",
    "\n",
    "for tdx in range(jd):\n",
    "    xdinlin = int(input(\"Masukkan titik data untuk x: \")) # perintah untuk memasukkan posisi suku yang ingin dicari\n",
    "    Xinlin.append(xdinlin)\n",
    "    ydinlin = int(input(\"Masukkan titik data untuk y: \"))\n",
    "    Yinlin.append(ydinlin)"
   ]
  }
 ],
 "metadata": {
  "colab": {
   "provenance": []
  },
  "kernelspec": {
   "display_name": "Python 3 (ipykernel)",
   "language": "python",
   "name": "python3"
  },
  "language_info": {
   "codemirror_mode": {
    "name": "ipython",
    "version": 3
   },
   "file_extension": ".py",
   "mimetype": "text/x-python",
   "name": "python",
   "nbconvert_exporter": "python",
   "pygments_lexer": "ipython3",
   "version": "3.9.12"
  }
 },
 "nbformat": 4,
 "nbformat_minor": 1
}
