{
 "cells": [
  {
   "cell_type": "markdown",
   "metadata": {},
   "source": [
    "# Flowchart_root_finding"
   ]
  },
  {
   "cell_type": "code",
   "execution_count": 101,
   "metadata": {},
   "outputs": [
    {
     "data": {
      "text/html": [
       "<img src=\"https://mermaid.ink/img/CmdyYXBoIFRECiAgICBCKFsiQmVnaW4iXSkgLS0+IElbLyJ4PHN1Yj4wPC9zdWI+LCB4PHN1Yj4xPC9zdWI+LCA8YnI+Zih4KSIvXQogICAgSSAtLT4gUDFbImkgPSAyIl0KICAgIFAxIC0tPiBvMSgoIiAiKSkKICAgIG8xIC0tPiBQMlsiZicoeDxzdWI+aS0xPC9zdWI+KSA9IFtmKHg8c3ViPmktMTwvc3ViPikgJm1kYXNoOyBmKHg8c3ViPmktMjwvc3ViPildPGJyPiAgICAgIC8gKHg8c3ViPmktMTwvc3ViPiAmbWRhc2g7IHg8c3ViPmktMjwvc3ViPikiXQogICAgUDIgLS0+IFAzWyImRGVsdGE7eCA9IGYoeDxzdWI+aS0xPC9zdWI+KSAvIGYnKHg8c3ViPmktMTwvc3ViPikiXQogICAgUDMgLS0+IFA0WyJ4PHN1Yj5pPC9zdWI+ID0geDxzdWI+aS0xPC9zdWI+ICAgICAgJm1kYXNoOyAmRGVsdGE7eCJdCiAgICBQNCAtLT4gUDVbIiZlcHNpbG9uOyA9IHxmKHg8c3ViPmk8L3N1Yj4pfCJdCiAgICBQNSAtLT4gQ3siJmVwc2lsb247ICZsZTsgJmVwc2lsb247PHN1Yj5tYXg8L3N1Yj4ifQogICAgQyAtLT4gfFllc3wgT1svIng8c3ViPmk8L3N1Yj4iL10KICAgIE8gLS0+IEUoWyJFbmQiXSkKICAgIEMgLS0+IHxOb3wgUDZbImkgPSBpICsgMSJdCiAgICBQNiAtLT4gbzEK?!white\"/>"
      ],
      "text/plain": [
       "<IPython.core.display.Image object>"
      ]
     },
     "metadata": {},
     "output_type": "display_data"
    }
   ],
   "source": [
    "import base64\n",
    "from IPython.display import Image, display\n",
    "import matplotlib.pyplot as plt\n",
    "\n",
    "def mermaid(graph, **kwargs):\n",
    "    graphbytes = graph.encode('ascii')\n",
    "    base64_bytes = base64.b64encode(graphbytes)\n",
    "    base64_string = base64_bytes.decode('ascii')\n",
    "    bgcolor = '!white'\n",
    "    display(\n",
    "        Image(\n",
    "            url='https://mermaid.ink/img/'\n",
    "            + base64_string + '?' + bgcolor\n",
    "            )\n",
    "    )\n",
    "\n",
    "g = \"\"\"\n",
    "graph TD\n",
    "    B([\"Begin\"]) --> I[/\"x<sub>0</sub>, x<sub>1</sub>, <br>f(x)\"/]\n",
    "    I --> P1[\"i = 2\"]\n",
    "    P1 --> o1((\" \"))\n",
    "    o1 --> P2[\"f'(x<sub>i-1</sub>) = [f(x<sub>i-1</sub>) &mdash; f(x<sub>i-2</sub>)]<br>\\\n",
    "      / (x<sub>i-1</sub> &mdash; x<sub>i-2</sub>)\"]\n",
    "    P2 --> P3[\"&Delta;x = f(x<sub>i-1</sub>) / f'(x<sub>i-1</sub>)\"]\n",
    "    P3 --> P4[\"x<sub>i</sub> = x<sub>i-1</sub>\\\n",
    "      &mdash; &Delta;x\"]\n",
    "    P4 --> P5[\"&epsilon; = |f(x<sub>i</sub>)|\"]\n",
    "    P5 --> C{\"&epsilon; &le; &epsilon;<sub>max</sub>\"}\n",
    "    C --> |Yes| O[/\"x<sub>i</sub>\"/]\n",
    "    O --> E([\"End\"])\n",
    "    C --> |No| P6[\"i = i + 1\"]\n",
    "    P6 --> o1\n",
    "\"\"\"\n",
    "mermaid(g)"
   ]
  }
 ],
 "metadata": {
  "colab": {
   "provenance": []
  },
  "kernelspec": {
   "display_name": "Python 3 (ipykernel)",
   "language": "python",
   "name": "python3"
  },
  "language_info": {
   "codemirror_mode": {
    "name": "ipython",
    "version": 3
   },
   "file_extension": ".py",
   "mimetype": "text/x-python",
   "name": "python",
   "nbconvert_exporter": "python",
   "pygments_lexer": "ipython3",
   "version": "3.9.12"
  }
 },
 "nbformat": 4,
 "nbformat_minor": 1
}
