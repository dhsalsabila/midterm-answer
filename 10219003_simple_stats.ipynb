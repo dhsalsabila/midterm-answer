{
 "cells": [
  {
   "cell_type": "markdown",
   "metadata": {},
   "source": [
    "# simple_stats"
   ]
  },
  {
   "cell_type": "code",
   "execution_count": 2,
   "metadata": {
    "colab": {
     "base_uri": "https://localhost:8080/"
    },
    "id": "Rvk7C5xUUK2k",
    "outputId": "f89bb469-954c-4541-e430-3338a028f321"
   },
   "outputs": [
    {
     "name": "stdout",
     "output_type": "stream",
     "text": [
      "Ingin mencari suku ke: 3\n",
      "suku ke 3 adalah 5\n"
     ]
    }
   ],
   "source": [
    "# Buat deret yang diketahui ke dalam list dengan variabel X\n",
    "X = [4,7,5,1,3,6,4,8,5,7,2,5,6,3,9,6,8,5,7,4]\n",
    "\n",
    "i =int(input(\"Ingin mencari suku ke: \")) # perintah untuk memasukkan posisi suku yang ingin dicari\n",
    "\n",
    "for j in range (0,i+1):\n",
    "  j = j + 1\n",
    "  if j == i:\n",
    "    print('suku ke', i, 'adalah', (X[j-1])) # output dari pencarian suku ke - n"
   ]
  },
  {
   "cell_type": "code",
   "execution_count": 3,
   "metadata": {
    "colab": {
     "base_uri": "https://localhost:8080/"
    },
    "id": "s7W3_g2eddQu",
    "outputId": "95a91406-164c-42a8-891c-b48ea64e559e"
   },
   "outputs": [
    {
     "name": "stdout",
     "output_type": "stream",
     "text": [
      "Mean data adalah\n",
      "5.25\n",
      "Median data adalah\n",
      "5.5\n"
     ]
    }
   ],
   "source": [
    "def mean(a, b):\n",
    "    Xavg = sum(a)/b #jumlah nilai data dibagi dengan jumlah banyaknya data\n",
    "    return Xavg\n",
    "\n",
    "def median(c):\n",
    "    c.sort()\n",
    "    nmed = int((len(c)+1)/2)\n",
    "    n1 = int(len(c)/2)\n",
    "    n2 = int(n1 + 1)\n",
    "    if len(c) % 2 == 1: #kondisi untuk jumlah data ganjil\n",
    "        Xmed = X[nmed]\n",
    "    elif len(c) % 2 == 0: #kondisi untuk jumlah data genap\n",
    "        Xmed = (X[n1]+X[n2])/2\n",
    "    return Xmed\n",
    "\n",
    "print('Mean data adalah', mean(X,len(X)),\n",
    "      'Median data adalah', median(X), sep='\\n')"
   ]
  },
  {
   "cell_type": "code",
   "execution_count": 7,
   "metadata": {},
   "outputs": [
    {
     "name": "stdout",
     "output_type": "stream",
     "text": [
      "Nilai maximum data adalah\n",
      "9\n",
      "Nilai minimum data adalah\n",
      "1\n",
      "Range data adalah\n",
      "8\n"
     ]
    }
   ],
   "source": [
    "def maxi(d):\n",
    "    d.sort() #nilai diurutkan dari kecil ke besar\n",
    "    Xmax = X[len(d)-1] #nilai maximum diperoleh pada posisi data paling akhir\n",
    "    return Xmax\n",
    "\n",
    "def minim(e):\n",
    "    e.sort() #nilai diurutkan dari kecil ke besar\n",
    "    Xmin = X[0] #nilai minimum diperoleh pada posisi data paling awal\n",
    "    return Xmin\n",
    "\n",
    "def rangex(f):\n",
    "    Xrange = maxi(f) - minim(f) #jangkauan atau range diperoleh dengan mengurangkan nilai maximum dan minimum\n",
    "    return Xrange\n",
    "print('Nilai maximum data adalah', maxi(X),\n",
    "      'Nilai minimum data adalah', minim(X),\n",
    "      'Range data adalah', rangex(X), sep='\\n')"
   ]
  },
  {
   "cell_type": "code",
   "execution_count": 8,
   "metadata": {},
   "outputs": [
    {
     "name": "stdout",
     "output_type": "stream",
     "text": [
      "Variansi data adalah\n",
      "83.75\n",
      "Standar deviasi data adalah\n",
      "2.0463381929681126\n"
     ]
    }
   ],
   "source": [
    "def var(g):\n",
    "    sum_f = 0 #inisialisasi nilai sumation 0\n",
    "    for Nz in range (len(g)):\n",
    "        sig1 = g[Nz-1] - mean(g, len(g)) #persamaan variansi \n",
    "        sum_f += sig1**2\n",
    "    return sum_f\n",
    "\n",
    "def std(dv):\n",
    "    sdev = (var(dv)/(len(dv)))**0.5 #sdev diperoleh dengan mencari akar dari variansi dibagi (n-1)\n",
    "    return sdev\n",
    "print('Variansi data adalah', var(X),\n",
    "      'Standar deviasi data adalah', std(X), sep='\\n')"
   ]
  }
 ],
 "metadata": {
  "colab": {
   "provenance": []
  },
  "kernelspec": {
   "display_name": "Python 3 (ipykernel)",
   "language": "python",
   "name": "python3"
  },
  "language_info": {
   "codemirror_mode": {
    "name": "ipython",
    "version": 3
   },
   "file_extension": ".py",
   "mimetype": "text/x-python",
   "name": "python",
   "nbconvert_exporter": "python",
   "pygments_lexer": "ipython3",
   "version": "3.9.12"
  }
 },
 "nbformat": 4,
 "nbformat_minor": 1
}
